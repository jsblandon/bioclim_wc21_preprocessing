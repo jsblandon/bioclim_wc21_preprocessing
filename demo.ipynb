{
 "cells": [
  {
   "cell_type": "code",
   "execution_count": null,
   "id": "initial_id",
   "metadata": {
    "collapsed": true
   },
   "outputs": [],
   "source": [
    "# Raster managing package installing\n",
    "!pip install rioxarray\n",
    "\n",
    "# Basemap tiles package\n",
    "!pip3 install contextily\n",
    "\n",
    "# Auxiliary functions for geopandas\n",
    "!pip install rtree"
   ]
  },
  {
   "metadata": {},
   "cell_type": "code",
   "outputs": [],
   "execution_count": null,
   "source": [
    "# Custom class and functions to load WorldClim data into Colab\n",
    "!git clone https://github.com/jsblandon/bioclim_wc21_preprocessing.git\n",
    "import sys\n",
    "sys.path.append('/content/bioclim_wc21_preprocessing')"
   ],
   "id": "9c638ea19e5ce0f6"
  },
  {
   "metadata": {},
   "cell_type": "code",
   "outputs": [],
   "execution_count": null,
   "source": [
    "from world_clim_class import WorldClim\n",
    "from world_clim_class_support_mods import bio_raster_loading\n",
    "import os                          # directory managing\n",
    "import geopandas as gpd            # shapefile managing\n",
    "import glob                        # files managing\n",
    "from natsort import natsorted      # natural sorting strings"
   ],
   "id": "aa48df2a44cf2cca"
  },
  {
   "metadata": {},
   "cell_type": "code",
   "outputs": [],
   "execution_count": null,
   "source": [
    "# BioClim Data download\n",
    "download = WorldClim(res = '2.5', var = 'bio')\n",
    "download.url_generation()"
   ],
   "id": "867b282f99fa0dee"
  },
  {
   "metadata": {},
   "cell_type": "code",
   "outputs": [],
   "execution_count": null,
   "source": [
    "# Bioclimatic data loading and clipping\n",
    "shp = 'load/custom/shape'\n",
    "files_lst = natsorted(glob.glob(\"/content/wc2.1_2.5m_bio/*\"))\n",
    "bc_vars_lst = []\n",
    "for i in files_lst:\n",
    "    bc_vars_lst += [bio_raster_loading(i, shp)]"
   ],
   "id": "a17a943cb096b6ac"
  }
 ],
 "metadata": {
  "kernelspec": {
   "display_name": "Python 3",
   "language": "python",
   "name": "python3"
  },
  "language_info": {
   "codemirror_mode": {
    "name": "ipython",
    "version": 2
   },
   "file_extension": ".py",
   "mimetype": "text/x-python",
   "name": "python",
   "nbconvert_exporter": "python",
   "pygments_lexer": "ipython2",
   "version": "2.7.6"
  }
 },
 "nbformat": 4,
 "nbformat_minor": 5
}
